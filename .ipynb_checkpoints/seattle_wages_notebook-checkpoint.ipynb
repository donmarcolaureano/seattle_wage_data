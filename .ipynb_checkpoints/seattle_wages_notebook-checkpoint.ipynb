{
 "cells": [
  {
   "cell_type": "markdown",
   "id": "c86e5df3-eba4-4ba3-8bcb-568d6182b3d6",
   "metadata": {
    "tags": []
   },
   "source": [
    "# import libraries and load data"
   ]
  },
  {
   "cell_type": "code",
   "execution_count": 26,
   "id": "a9e67dfa-b041-4d95-8286-cfc4f46f348a",
   "metadata": {
    "tags": []
   },
   "outputs": [],
   "source": [
    "import pandas as pd\n",
    "import seaborn as sns\n",
    "import matplotlib as mpl"
   ]
  },
  {
   "cell_type": "code",
   "execution_count": 2,
   "id": "bfaeb9c2-487d-4dd9-b067-1ad912601210",
   "metadata": {
    "tags": []
   },
   "outputs": [],
   "source": [
    "seattle_wages = pd.read_csv('/Users/marcolaureano2/Documents/GitHub/seattle_wage_data/Data/City_of_Seattle_Wage_Data_20240523.csv')"
   ]
  },
  {
   "cell_type": "code",
   "execution_count": 3,
   "id": "4e777753-6f54-4131-bd78-5b96d5df802b",
   "metadata": {
    "tags": []
   },
   "outputs": [],
   "source": [
    "# max display options\n",
    "\n",
    "# pd.set_option('display.max_column', None)\n",
    "# pd.set_option('display.max_rows', None)\n",
    "# pd.set_option('display.max_seq_items', None)\n",
    "# pd.set_option('display.max_colwidth', 500)\n",
    "# pd.set_option('expand_frame_repr', True)"
   ]
  },
  {
   "cell_type": "markdown",
   "id": "3b80d0da-0b98-419f-a774-9f5e89d53473",
   "metadata": {},
   "source": [
    "# inspect data"
   ]
  },
  {
   "cell_type": "code",
   "execution_count": 4,
   "id": "e5c98251-b245-4282-984f-0d02302878b2",
   "metadata": {
    "tags": []
   },
   "outputs": [
    {
     "name": "stdout",
     "output_type": "stream",
     "text": [
      "<class 'pandas.core.frame.DataFrame'>\n",
      "RangeIndex: 12727 entries, 0 to 12726\n",
      "Data columns (total 5 columns):\n",
      " #   Column        Non-Null Count  Dtype  \n",
      "---  ------        --------------  -----  \n",
      " 0   Department    12727 non-null  object \n",
      " 1   Last Name     12727 non-null  object \n",
      " 2   First Name    12727 non-null  object \n",
      " 3   Job Title     12727 non-null  object \n",
      " 4   Hourly Rate   12727 non-null  float64\n",
      "dtypes: float64(1), object(4)\n",
      "memory usage: 497.3+ KB\n"
     ]
    }
   ],
   "source": [
    "seattle_wages.info()"
   ]
  },
  {
   "cell_type": "code",
   "execution_count": 5,
   "id": "2752a288-0960-48fb-89a4-e14b5f66cb20",
   "metadata": {
    "tags": []
   },
   "outputs": [
    {
     "data": {
      "text/html": [
       "<div>\n",
       "<style scoped>\n",
       "    .dataframe tbody tr th:only-of-type {\n",
       "        vertical-align: middle;\n",
       "    }\n",
       "\n",
       "    .dataframe tbody tr th {\n",
       "        vertical-align: top;\n",
       "    }\n",
       "\n",
       "    .dataframe thead th {\n",
       "        text-align: right;\n",
       "    }\n",
       "</style>\n",
       "<table border=\"1\" class=\"dataframe\">\n",
       "  <thead>\n",
       "    <tr style=\"text-align: right;\">\n",
       "      <th></th>\n",
       "      <th>Department</th>\n",
       "      <th>Last Name</th>\n",
       "      <th>First Name</th>\n",
       "      <th>Job Title</th>\n",
       "      <th>Hourly Rate</th>\n",
       "    </tr>\n",
       "  </thead>\n",
       "  <tbody>\n",
       "    <tr>\n",
       "      <th>0</th>\n",
       "      <td>Office of Housing</td>\n",
       "      <td>Gould</td>\n",
       "      <td>Ian</td>\n",
       "      <td>Property Rehab Spec</td>\n",
       "      <td>47.08</td>\n",
       "    </tr>\n",
       "    <tr>\n",
       "      <th>1</th>\n",
       "      <td>Office of Housing</td>\n",
       "      <td>Kremer</td>\n",
       "      <td>Madison</td>\n",
       "      <td>Com Dev Spec,Sr</td>\n",
       "      <td>56.39</td>\n",
       "    </tr>\n",
       "    <tr>\n",
       "      <th>2</th>\n",
       "      <td>Office of Housing</td>\n",
       "      <td>Wolff</td>\n",
       "      <td>Sandra</td>\n",
       "      <td>Dev Fin Spec,Sr</td>\n",
       "      <td>50.20</td>\n",
       "    </tr>\n",
       "    <tr>\n",
       "      <th>3</th>\n",
       "      <td>Office of Housing</td>\n",
       "      <td>Barker</td>\n",
       "      <td>Lacey</td>\n",
       "      <td>Com Dev Spec,Sr</td>\n",
       "      <td>58.65</td>\n",
       "    </tr>\n",
       "    <tr>\n",
       "      <th>4</th>\n",
       "      <td>Office of Housing</td>\n",
       "      <td>Laird</td>\n",
       "      <td>Danthanh</td>\n",
       "      <td>Fin Anlyst,Sr</td>\n",
       "      <td>58.37</td>\n",
       "    </tr>\n",
       "  </tbody>\n",
       "</table>\n",
       "</div>"
      ],
      "text/plain": [
       "          Department Last Name First Name            Job Title  Hourly Rate \n",
       "0  Office of Housing     Gould        Ian  Property Rehab Spec         47.08\n",
       "1  Office of Housing    Kremer    Madison      Com Dev Spec,Sr         56.39\n",
       "2  Office of Housing     Wolff     Sandra      Dev Fin Spec,Sr         50.20\n",
       "3  Office of Housing    Barker      Lacey      Com Dev Spec,Sr         58.65\n",
       "4  Office of Housing     Laird   Danthanh        Fin Anlyst,Sr         58.37"
      ]
     },
     "execution_count": 5,
     "metadata": {},
     "output_type": "execute_result"
    }
   ],
   "source": [
    "seattle_wages.head()"
   ]
  },
  {
   "cell_type": "code",
   "execution_count": 6,
   "id": "2c0e65cb-8cc1-458f-aa0a-ee9a7db2cbd8",
   "metadata": {
    "tags": []
   },
   "outputs": [
    {
     "data": {
      "text/plain": [
       "Department      12727\n",
       "Last Name       12727\n",
       "First Name      12727\n",
       "Job Title       12727\n",
       "Hourly Rate     12727\n",
       "dtype: int64"
      ]
     },
     "execution_count": 6,
     "metadata": {},
     "output_type": "execute_result"
    }
   ],
   "source": [
    "seattle_wages.isnull().count()"
   ]
  },
  {
   "cell_type": "code",
   "execution_count": 7,
   "id": "63fc17f1-2339-4913-b1b4-2815f33b2bfb",
   "metadata": {
    "tags": []
   },
   "outputs": [
    {
     "data": {
      "text/html": [
       "<div>\n",
       "<style scoped>\n",
       "    .dataframe tbody tr th:only-of-type {\n",
       "        vertical-align: middle;\n",
       "    }\n",
       "\n",
       "    .dataframe tbody tr th {\n",
       "        vertical-align: top;\n",
       "    }\n",
       "\n",
       "    .dataframe thead th {\n",
       "        text-align: right;\n",
       "    }\n",
       "</style>\n",
       "<table border=\"1\" class=\"dataframe\">\n",
       "  <thead>\n",
       "    <tr style=\"text-align: right;\">\n",
       "      <th></th>\n",
       "      <th>Department</th>\n",
       "      <th>Last Name</th>\n",
       "      <th>First Name</th>\n",
       "      <th>Job Title</th>\n",
       "      <th>Hourly Rate</th>\n",
       "    </tr>\n",
       "  </thead>\n",
       "  <tbody>\n",
       "    <tr>\n",
       "      <th>0</th>\n",
       "      <td>Office of Housing</td>\n",
       "      <td>Gould</td>\n",
       "      <td>Ian</td>\n",
       "      <td>Property Rehab Spec</td>\n",
       "      <td>47.080</td>\n",
       "    </tr>\n",
       "    <tr>\n",
       "      <th>1</th>\n",
       "      <td>Office of Housing</td>\n",
       "      <td>Kremer</td>\n",
       "      <td>Madison</td>\n",
       "      <td>Com Dev Spec,Sr</td>\n",
       "      <td>56.390</td>\n",
       "    </tr>\n",
       "    <tr>\n",
       "      <th>2</th>\n",
       "      <td>Office of Housing</td>\n",
       "      <td>Wolff</td>\n",
       "      <td>Sandra</td>\n",
       "      <td>Dev Fin Spec,Sr</td>\n",
       "      <td>50.200</td>\n",
       "    </tr>\n",
       "    <tr>\n",
       "      <th>3</th>\n",
       "      <td>Office of Housing</td>\n",
       "      <td>Barker</td>\n",
       "      <td>Lacey</td>\n",
       "      <td>Com Dev Spec,Sr</td>\n",
       "      <td>58.650</td>\n",
       "    </tr>\n",
       "    <tr>\n",
       "      <th>4</th>\n",
       "      <td>Office of Housing</td>\n",
       "      <td>Laird</td>\n",
       "      <td>Danthanh</td>\n",
       "      <td>Fin Anlyst,Sr</td>\n",
       "      <td>58.370</td>\n",
       "    </tr>\n",
       "    <tr>\n",
       "      <th>...</th>\n",
       "      <td>...</td>\n",
       "      <td>...</td>\n",
       "      <td>...</td>\n",
       "      <td>...</td>\n",
       "      <td>...</td>\n",
       "    </tr>\n",
       "    <tr>\n",
       "      <th>12722</th>\n",
       "      <td>Seattle City Light</td>\n",
       "      <td>Fitzgerald</td>\n",
       "      <td>Matthew</td>\n",
       "      <td>Prot&amp;Cntrl Elctn CC</td>\n",
       "      <td>79.740</td>\n",
       "    </tr>\n",
       "    <tr>\n",
       "      <th>12723</th>\n",
       "      <td>Seattle City Light</td>\n",
       "      <td>Webster</td>\n",
       "      <td>John</td>\n",
       "      <td>MatSup,Elec-Asg OPVTCHBNSTR</td>\n",
       "      <td>43.770</td>\n",
       "    </tr>\n",
       "    <tr>\n",
       "      <th>12724</th>\n",
       "      <td>Seattle City Light</td>\n",
       "      <td>Tapia</td>\n",
       "      <td>Rene</td>\n",
       "      <td>Info Technol Prof A BU</td>\n",
       "      <td>63.000</td>\n",
       "    </tr>\n",
       "    <tr>\n",
       "      <th>12725</th>\n",
       "      <td>Seattle City Light</td>\n",
       "      <td>Hui</td>\n",
       "      <td>Wingfai</td>\n",
       "      <td>Info Technol Prof B-BU</td>\n",
       "      <td>68.192</td>\n",
       "    </tr>\n",
       "    <tr>\n",
       "      <th>12726</th>\n",
       "      <td>Seattle City Light</td>\n",
       "      <td>Ellermeier</td>\n",
       "      <td>Todd</td>\n",
       "      <td>Elecl Constr&amp;Maint Supv-BU</td>\n",
       "      <td>82.240</td>\n",
       "    </tr>\n",
       "  </tbody>\n",
       "</table>\n",
       "<p>12727 rows × 5 columns</p>\n",
       "</div>"
      ],
      "text/plain": [
       "               Department   Last Name First Name                    Job Title  \\\n",
       "0       Office of Housing       Gould        Ian          Property Rehab Spec   \n",
       "1       Office of Housing      Kremer    Madison              Com Dev Spec,Sr   \n",
       "2       Office of Housing       Wolff     Sandra              Dev Fin Spec,Sr   \n",
       "3       Office of Housing      Barker      Lacey              Com Dev Spec,Sr   \n",
       "4       Office of Housing       Laird   Danthanh                Fin Anlyst,Sr   \n",
       "...                   ...         ...        ...                          ...   \n",
       "12722  Seattle City Light  Fitzgerald    Matthew          Prot&Cntrl Elctn CC   \n",
       "12723  Seattle City Light     Webster       John  MatSup,Elec-Asg OPVTCHBNSTR   \n",
       "12724  Seattle City Light       Tapia       Rene       Info Technol Prof A BU   \n",
       "12725  Seattle City Light         Hui    Wingfai       Info Technol Prof B-BU   \n",
       "12726  Seattle City Light  Ellermeier       Todd   Elecl Constr&Maint Supv-BU   \n",
       "\n",
       "       Hourly Rate   \n",
       "0            47.080  \n",
       "1            56.390  \n",
       "2            50.200  \n",
       "3            58.650  \n",
       "4            58.370  \n",
       "...             ...  \n",
       "12722        79.740  \n",
       "12723        43.770  \n",
       "12724        63.000  \n",
       "12725        68.192  \n",
       "12726        82.240  \n",
       "\n",
       "[12727 rows x 5 columns]"
      ]
     },
     "execution_count": 7,
     "metadata": {},
     "output_type": "execute_result"
    }
   ],
   "source": [
    "seattle_wages"
   ]
  },
  {
   "cell_type": "code",
   "execution_count": 8,
   "id": "9cd93f27-db3b-48e7-bef7-8f2d247acb39",
   "metadata": {
    "tags": []
   },
   "outputs": [
    {
     "data": {
      "text/plain": [
       "Index(['Department', 'Last Name', 'First Name', 'Job Title', 'Hourly Rate '], dtype='object')"
      ]
     },
     "execution_count": 8,
     "metadata": {},
     "output_type": "execute_result"
    }
   ],
   "source": [
    "seattle_wages.columns"
   ]
  },
  {
   "cell_type": "code",
   "execution_count": 9,
   "id": "39ef5fd9-3cdd-491c-a281-ce4d618bd40d",
   "metadata": {
    "tags": []
   },
   "outputs": [],
   "source": [
    "seattle_wages = seattle_wages.rename(columns={'Hourly Rate ':'Hourly Rate'})"
   ]
  },
  {
   "cell_type": "code",
   "execution_count": 10,
   "id": "98a87e4a-0954-48d8-b45f-85df9817d1cb",
   "metadata": {
    "tags": []
   },
   "outputs": [
    {
     "data": {
      "text/plain": [
       "Index(['Department', 'Last Name', 'First Name', 'Job Title', 'Hourly Rate'], dtype='object')"
      ]
     },
     "execution_count": 10,
     "metadata": {},
     "output_type": "execute_result"
    }
   ],
   "source": [
    "seattle_wages.columns"
   ]
  },
  {
   "cell_type": "markdown",
   "id": "9f9e8ef7-30d0-4c51-b09e-88a4a8350d93",
   "metadata": {},
   "source": [
    "## inspecting columns "
   ]
  },
  {
   "cell_type": "markdown",
   "id": "e1b46186-c8c0-4161-8e92-a948872ea786",
   "metadata": {},
   "source": [
    "### Department"
   ]
  },
  {
   "cell_type": "code",
   "execution_count": 11,
   "id": "bcc8998e-8ccb-4a89-8569-46701ec6eb11",
   "metadata": {
    "tags": []
   },
   "outputs": [
    {
     "data": {
      "text/plain": [
       "array(['Office of Housing', 'Commnty Sfty and Comm Ctr Dept',\n",
       "       'Neighborhoods', 'Seattle Public Utilities',\n",
       "       'Seattle Dept of Transportation', 'Fire Department',\n",
       "       'Intergovernment Relations', 'Information Technology',\n",
       "       'Office of Economic Development', 'Education & Early Learning',\n",
       "       'Parks & Recreation', 'Legislative Department',\n",
       "       'Office of Labor Standards', \"Mayor's Office\",\n",
       "       'Off of Emergency Mngmnt Dept', 'Planning & Comm Development',\n",
       "       'Seattle Public Library', 'Finance & Admin Services',\n",
       "       'Seattle Center', 'Police Department', 'Human Services Department',\n",
       "       'Arts & Culture', 'City Budget Office', 'City of Seattle',\n",
       "       'Seattle Dept of Human Resource', 'Construction & Inspections',\n",
       "       'Seattle City Light', 'Hearing Examiner',\n",
       "       'Police Relief & Pension Fund', 'Ethics & Elections Commission',\n",
       "       'Sustainability & Environment', 'City Auditor',\n",
       "       \"Employees' Retirement System\", 'Community Police Commission',\n",
       "       'Office for Civil Rights', 'Econ & Revenue Forecasts Dept',\n",
       "       'Office of Inspector General', 'Immigrant & Refugee Affairs',\n",
       "       'Civil Service Commissions', 'Office of Employee OMBUD'],\n",
       "      dtype=object)"
      ]
     },
     "execution_count": 11,
     "metadata": {},
     "output_type": "execute_result"
    }
   ],
   "source": [
    "seattle_wages['Department'].unique()"
   ]
  },
  {
   "cell_type": "code",
   "execution_count": 12,
   "id": "538a02df-d788-4f1d-aef9-d97e74c19446",
   "metadata": {
    "tags": []
   },
   "outputs": [
    {
     "data": {
      "text/plain": [
       "Parks & Recreation                1710\n",
       "Seattle City Light                1692\n",
       "Police Department                 1465\n",
       "Seattle Public Utilities          1417\n",
       "Fire Department                   1090\n",
       "Seattle Dept of Transportation    1038\n",
       "Seattle Public Library             636\n",
       "Information Technology             631\n",
       "Finance & Admin Services           582\n",
       "Seattle Center                     546\n",
       "Construction & Inspections         440\n",
       "Human Services Department          419\n",
       "Commnty Sfty and Comm Ctr Dept     139\n",
       "Education & Early Learning         117\n",
       "Seattle Dept of Human Resource     105\n",
       "Legislative Department              97\n",
       "Office of Housing                   60\n",
       "Neighborhoods                       60\n",
       "Office of Economic Development      51\n",
       "Planning & Comm Development         49\n",
       "Sustainability & Environment        47\n",
       "City Budget Office                  45\n",
       "Arts & Culture                      43\n",
       "Mayor's Office                      37\n",
       "Office for Civil Rights             32\n",
       "Employees' Retirement System        31\n",
       "Office of Labor Standards           30\n",
       "Office of Inspector General         22\n",
       "Off of Emergency Mngmnt Dept        17\n",
       "Civil Service Commissions           13\n",
       "Immigrant & Refugee Affairs         11\n",
       "Ethics & Elections Commission       10\n",
       "Intergovernment Relations            8\n",
       "City Auditor                         8\n",
       "Community Police Commission          8\n",
       "Office of Employee OMBUD             7\n",
       "Hearing Examiner                     5\n",
       "Police Relief & Pension Fund         5\n",
       "Econ & Revenue Forecasts Dept        2\n",
       "City of Seattle                      2\n",
       "Name: Department, dtype: int64"
      ]
     },
     "execution_count": 12,
     "metadata": {},
     "output_type": "execute_result"
    }
   ],
   "source": [
    "seattle_wages['Department'].value_counts()"
   ]
  },
  {
   "cell_type": "code",
   "execution_count": 13,
   "id": "8c99120e-fe84-4474-a12f-f3dfa5b93aac",
   "metadata": {
    "tags": []
   },
   "outputs": [],
   "source": [
    "departments = seattle_wages['Department'].value_counts()"
   ]
  },
  {
   "cell_type": "code",
   "execution_count": 14,
   "id": "e9f4575e-5e59-4efe-8ab8-fd5677372a16",
   "metadata": {
    "tags": []
   },
   "outputs": [
    {
     "data": {
      "text/plain": [
       "Parks & Recreation                1710\n",
       "Seattle City Light                1692\n",
       "Police Department                 1465\n",
       "Seattle Public Utilities          1417\n",
       "Fire Department                   1090\n",
       "Seattle Dept of Transportation    1038\n",
       "Seattle Public Library             636\n",
       "Information Technology             631\n",
       "Finance & Admin Services           582\n",
       "Seattle Center                     546\n",
       "Construction & Inspections         440\n",
       "Human Services Department          419\n",
       "Commnty Sfty and Comm Ctr Dept     139\n",
       "Education & Early Learning         117\n",
       "Seattle Dept of Human Resource     105\n",
       "Legislative Department              97\n",
       "Office of Housing                   60\n",
       "Neighborhoods                       60\n",
       "Office of Economic Development      51\n",
       "Planning & Comm Development         49\n",
       "Sustainability & Environment        47\n",
       "City Budget Office                  45\n",
       "Arts & Culture                      43\n",
       "Mayor's Office                      37\n",
       "Office for Civil Rights             32\n",
       "Employees' Retirement System        31\n",
       "Office of Labor Standards           30\n",
       "Office of Inspector General         22\n",
       "Off of Emergency Mngmnt Dept        17\n",
       "Civil Service Commissions           13\n",
       "Immigrant & Refugee Affairs         11\n",
       "Ethics & Elections Commission       10\n",
       "Intergovernment Relations            8\n",
       "City Auditor                         8\n",
       "Community Police Commission          8\n",
       "Office of Employee OMBUD             7\n",
       "Hearing Examiner                     5\n",
       "Police Relief & Pension Fund         5\n",
       "Econ & Revenue Forecasts Dept        2\n",
       "City of Seattle                      2\n",
       "Name: Department, dtype: int64"
      ]
     },
     "execution_count": 14,
     "metadata": {},
     "output_type": "execute_result"
    }
   ],
   "source": [
    "departments"
   ]
  },
  {
   "cell_type": "code",
   "execution_count": 15,
   "id": "f25b8ad5-3fa9-423e-b5bb-91ebae5e5dc6",
   "metadata": {
    "tags": []
   },
   "outputs": [],
   "source": [
    "department_df = departments.to_frame()"
   ]
  },
  {
   "cell_type": "code",
   "execution_count": 16,
   "id": "339131a0-7e3b-48d3-a030-c2b5a2342481",
   "metadata": {
    "tags": []
   },
   "outputs": [],
   "source": [
    "department_df.to_csv(\"/Users/marcolaureano2/Documents/GitHub/seattle_wage_data/Data/departments.csv\")"
   ]
  },
  {
   "cell_type": "markdown",
   "id": "27475f5e-8ce5-483f-8504-f39cd40c9a14",
   "metadata": {},
   "source": [
    "### job title"
   ]
  },
  {
   "cell_type": "code",
   "execution_count": 17,
   "id": "8cf31c55-32f9-4d98-ae53-f7e2259bbdc5",
   "metadata": {
    "tags": []
   },
   "outputs": [
    {
     "data": {
      "text/plain": [
       "Fireftr-90.46 Hrs                 342\n",
       "Info Technol Prof B-BU            338\n",
       "Pol Ofcr-Patrl-BWV                332\n",
       "Lifeguard *                       275\n",
       "Maint Laborer                     251\n",
       "                                 ... \n",
       "Util Astnce Supv                    1\n",
       "Asst Dir-Public Svcs                1\n",
       "Actg Tech I-BU                      1\n",
       "Fire Lieut, Sr-Trng Div-80 Hrs      1\n",
       "Mgmt Systs Anlyst,Sr BU-P *         1\n",
       "Name: Job Title, Length: 1159, dtype: int64"
      ]
     },
     "execution_count": 17,
     "metadata": {},
     "output_type": "execute_result"
    }
   ],
   "source": [
    "seattle_wages['Job Title'].value_counts()"
   ]
  },
  {
   "cell_type": "code",
   "execution_count": 18,
   "id": "41c36a4e-0928-4f1e-bd6f-66c0590d98c9",
   "metadata": {
    "tags": []
   },
   "outputs": [
    {
     "data": {
      "text/html": [
       "<div>\n",
       "<style scoped>\n",
       "    .dataframe tbody tr th:only-of-type {\n",
       "        vertical-align: middle;\n",
       "    }\n",
       "\n",
       "    .dataframe tbody tr th {\n",
       "        vertical-align: top;\n",
       "    }\n",
       "\n",
       "    .dataframe thead th {\n",
       "        text-align: right;\n",
       "    }\n",
       "</style>\n",
       "<table border=\"1\" class=\"dataframe\">\n",
       "  <thead>\n",
       "    <tr style=\"text-align: right;\">\n",
       "      <th></th>\n",
       "      <th>Department</th>\n",
       "      <th>Job Title</th>\n",
       "    </tr>\n",
       "  </thead>\n",
       "  <tbody>\n",
       "    <tr>\n",
       "      <th>0</th>\n",
       "      <td>Office of Housing</td>\n",
       "      <td>Property Rehab Spec</td>\n",
       "    </tr>\n",
       "    <tr>\n",
       "      <th>1</th>\n",
       "      <td>Office of Housing</td>\n",
       "      <td>Com Dev Spec,Sr</td>\n",
       "    </tr>\n",
       "    <tr>\n",
       "      <th>2</th>\n",
       "      <td>Office of Housing</td>\n",
       "      <td>Dev Fin Spec,Sr</td>\n",
       "    </tr>\n",
       "    <tr>\n",
       "      <th>3</th>\n",
       "      <td>Office of Housing</td>\n",
       "      <td>Com Dev Spec,Sr</td>\n",
       "    </tr>\n",
       "    <tr>\n",
       "      <th>4</th>\n",
       "      <td>Office of Housing</td>\n",
       "      <td>Fin Anlyst,Sr</td>\n",
       "    </tr>\n",
       "    <tr>\n",
       "      <th>...</th>\n",
       "      <td>...</td>\n",
       "      <td>...</td>\n",
       "    </tr>\n",
       "    <tr>\n",
       "      <th>12722</th>\n",
       "      <td>Seattle City Light</td>\n",
       "      <td>Prot&amp;Cntrl Elctn CC</td>\n",
       "    </tr>\n",
       "    <tr>\n",
       "      <th>12723</th>\n",
       "      <td>Seattle City Light</td>\n",
       "      <td>MatSup,Elec-Asg OPVTCHBNSTR</td>\n",
       "    </tr>\n",
       "    <tr>\n",
       "      <th>12724</th>\n",
       "      <td>Seattle City Light</td>\n",
       "      <td>Info Technol Prof A BU</td>\n",
       "    </tr>\n",
       "    <tr>\n",
       "      <th>12725</th>\n",
       "      <td>Seattle City Light</td>\n",
       "      <td>Info Technol Prof B-BU</td>\n",
       "    </tr>\n",
       "    <tr>\n",
       "      <th>12726</th>\n",
       "      <td>Seattle City Light</td>\n",
       "      <td>Elecl Constr&amp;Maint Supv-BU</td>\n",
       "    </tr>\n",
       "  </tbody>\n",
       "</table>\n",
       "<p>12727 rows × 2 columns</p>\n",
       "</div>"
      ],
      "text/plain": [
       "               Department                    Job Title\n",
       "0       Office of Housing          Property Rehab Spec\n",
       "1       Office of Housing              Com Dev Spec,Sr\n",
       "2       Office of Housing              Dev Fin Spec,Sr\n",
       "3       Office of Housing              Com Dev Spec,Sr\n",
       "4       Office of Housing                Fin Anlyst,Sr\n",
       "...                   ...                          ...\n",
       "12722  Seattle City Light          Prot&Cntrl Elctn CC\n",
       "12723  Seattle City Light  MatSup,Elec-Asg OPVTCHBNSTR\n",
       "12724  Seattle City Light       Info Technol Prof A BU\n",
       "12725  Seattle City Light       Info Technol Prof B-BU\n",
       "12726  Seattle City Light   Elecl Constr&Maint Supv-BU\n",
       "\n",
       "[12727 rows x 2 columns]"
      ]
     },
     "execution_count": 18,
     "metadata": {},
     "output_type": "execute_result"
    }
   ],
   "source": [
    "seattle_wages[['Department', 'Job Title']]"
   ]
  },
  {
   "cell_type": "code",
   "execution_count": 19,
   "id": "f723dd54-c5f5-4010-9346-10651dc34d89",
   "metadata": {
    "tags": []
   },
   "outputs": [
    {
     "data": {
      "text/html": [
       "<div>\n",
       "<style scoped>\n",
       "    .dataframe tbody tr th:only-of-type {\n",
       "        vertical-align: middle;\n",
       "    }\n",
       "\n",
       "    .dataframe tbody tr th {\n",
       "        vertical-align: top;\n",
       "    }\n",
       "\n",
       "    .dataframe thead th {\n",
       "        text-align: right;\n",
       "    }\n",
       "</style>\n",
       "<table border=\"1\" class=\"dataframe\">\n",
       "  <thead>\n",
       "    <tr style=\"text-align: right;\">\n",
       "      <th></th>\n",
       "      <th>Department</th>\n",
       "      <th>Last Name</th>\n",
       "      <th>First Name</th>\n",
       "      <th>Job Title</th>\n",
       "      <th>Hourly Rate</th>\n",
       "    </tr>\n",
       "  </thead>\n",
       "  <tbody>\n",
       "    <tr>\n",
       "      <th>0</th>\n",
       "      <td>Office of Housing</td>\n",
       "      <td>Gould</td>\n",
       "      <td>Ian</td>\n",
       "      <td>Property Rehab Spec</td>\n",
       "      <td>47.080</td>\n",
       "    </tr>\n",
       "    <tr>\n",
       "      <th>1</th>\n",
       "      <td>Office of Housing</td>\n",
       "      <td>Kremer</td>\n",
       "      <td>Madison</td>\n",
       "      <td>Com Dev Spec,Sr</td>\n",
       "      <td>56.390</td>\n",
       "    </tr>\n",
       "    <tr>\n",
       "      <th>2</th>\n",
       "      <td>Office of Housing</td>\n",
       "      <td>Wolff</td>\n",
       "      <td>Sandra</td>\n",
       "      <td>Dev Fin Spec,Sr</td>\n",
       "      <td>50.200</td>\n",
       "    </tr>\n",
       "    <tr>\n",
       "      <th>3</th>\n",
       "      <td>Office of Housing</td>\n",
       "      <td>Barker</td>\n",
       "      <td>Lacey</td>\n",
       "      <td>Com Dev Spec,Sr</td>\n",
       "      <td>58.650</td>\n",
       "    </tr>\n",
       "    <tr>\n",
       "      <th>4</th>\n",
       "      <td>Office of Housing</td>\n",
       "      <td>Laird</td>\n",
       "      <td>Danthanh</td>\n",
       "      <td>Fin Anlyst,Sr</td>\n",
       "      <td>58.370</td>\n",
       "    </tr>\n",
       "    <tr>\n",
       "      <th>...</th>\n",
       "      <td>...</td>\n",
       "      <td>...</td>\n",
       "      <td>...</td>\n",
       "      <td>...</td>\n",
       "      <td>...</td>\n",
       "    </tr>\n",
       "    <tr>\n",
       "      <th>12722</th>\n",
       "      <td>Seattle City Light</td>\n",
       "      <td>Fitzgerald</td>\n",
       "      <td>Matthew</td>\n",
       "      <td>Prot&amp;Cntrl Elctn CC</td>\n",
       "      <td>79.740</td>\n",
       "    </tr>\n",
       "    <tr>\n",
       "      <th>12723</th>\n",
       "      <td>Seattle City Light</td>\n",
       "      <td>Webster</td>\n",
       "      <td>John</td>\n",
       "      <td>MatSup,Elec-Asg OPVTCHBNSTR</td>\n",
       "      <td>43.770</td>\n",
       "    </tr>\n",
       "    <tr>\n",
       "      <th>12724</th>\n",
       "      <td>Seattle City Light</td>\n",
       "      <td>Tapia</td>\n",
       "      <td>Rene</td>\n",
       "      <td>Info Technol Prof A BU</td>\n",
       "      <td>63.000</td>\n",
       "    </tr>\n",
       "    <tr>\n",
       "      <th>12725</th>\n",
       "      <td>Seattle City Light</td>\n",
       "      <td>Hui</td>\n",
       "      <td>Wingfai</td>\n",
       "      <td>Info Technol Prof B-BU</td>\n",
       "      <td>68.192</td>\n",
       "    </tr>\n",
       "    <tr>\n",
       "      <th>12726</th>\n",
       "      <td>Seattle City Light</td>\n",
       "      <td>Ellermeier</td>\n",
       "      <td>Todd</td>\n",
       "      <td>Elecl Constr&amp;Maint Supv-BU</td>\n",
       "      <td>82.240</td>\n",
       "    </tr>\n",
       "  </tbody>\n",
       "</table>\n",
       "<p>12727 rows × 5 columns</p>\n",
       "</div>"
      ],
      "text/plain": [
       "               Department   Last Name First Name                    Job Title  \\\n",
       "0       Office of Housing       Gould        Ian          Property Rehab Spec   \n",
       "1       Office of Housing      Kremer    Madison              Com Dev Spec,Sr   \n",
       "2       Office of Housing       Wolff     Sandra              Dev Fin Spec,Sr   \n",
       "3       Office of Housing      Barker      Lacey              Com Dev Spec,Sr   \n",
       "4       Office of Housing       Laird   Danthanh                Fin Anlyst,Sr   \n",
       "...                   ...         ...        ...                          ...   \n",
       "12722  Seattle City Light  Fitzgerald    Matthew          Prot&Cntrl Elctn CC   \n",
       "12723  Seattle City Light     Webster       John  MatSup,Elec-Asg OPVTCHBNSTR   \n",
       "12724  Seattle City Light       Tapia       Rene       Info Technol Prof A BU   \n",
       "12725  Seattle City Light         Hui    Wingfai       Info Technol Prof B-BU   \n",
       "12726  Seattle City Light  Ellermeier       Todd   Elecl Constr&Maint Supv-BU   \n",
       "\n",
       "       Hourly Rate  \n",
       "0           47.080  \n",
       "1           56.390  \n",
       "2           50.200  \n",
       "3           58.650  \n",
       "4           58.370  \n",
       "...            ...  \n",
       "12722       79.740  \n",
       "12723       43.770  \n",
       "12724       63.000  \n",
       "12725       68.192  \n",
       "12726       82.240  \n",
       "\n",
       "[12727 rows x 5 columns]"
      ]
     },
     "execution_count": 19,
     "metadata": {},
     "output_type": "execute_result"
    }
   ],
   "source": [
    "seattle_wages"
   ]
  },
  {
   "cell_type": "markdown",
   "id": "0100a6b2-b4a0-4dec-a59e-5a5609ad8224",
   "metadata": {},
   "source": [
    "## grouping "
   ]
  },
  {
   "cell_type": "code",
   "execution_count": 20,
   "id": "b9f37b97-2d48-4d28-93aa-19f330069ed2",
   "metadata": {
    "tags": []
   },
   "outputs": [
    {
     "data": {
      "text/plain": [
       "Department                    Job Title                 Hourly Rate\n",
       "Arts & Culture                Accountant                47.140         1\n",
       "                              Accountant,Sr BU          51.940         1\n",
       "                              Admin Spec II-BU          33.400         1\n",
       "                              Admin Spec III-BU         37.400         1\n",
       "                              Admin Staff Anlyst BU     51.220         2\n",
       "                                                                      ..\n",
       "Sustainability & Environment  StratAdvsr3,Exempt        79.002         2\n",
       "                                                        77.842         1\n",
       "                                                        86.160         1\n",
       "                              StratAdvsr3,General Govt  72.419         1\n",
       "                                                        86.158         1\n",
       "Name: Hourly Rate, Length: 4580, dtype: int64"
      ]
     },
     "execution_count": 20,
     "metadata": {},
     "output_type": "execute_result"
    }
   ],
   "source": [
    "seattle_wages.groupby(['Department', 'Job Title'])['Hourly Rate'].value_counts()"
   ]
  },
  {
   "cell_type": "code",
   "execution_count": 21,
   "id": "b1ab20f8-af5c-4ba0-96dd-7a653ce3280d",
   "metadata": {
    "tags": []
   },
   "outputs": [
    {
     "data": {
      "text/plain": [
       "Department                    Hourly Rate\n",
       "Arts & Culture                34.690         3\n",
       "                              51.220         3\n",
       "                              25.980         2\n",
       "                              37.820         2\n",
       "                              41.490         2\n",
       "                                            ..\n",
       "Sustainability & Environment  76.808         1\n",
       "                              77.842         1\n",
       "                              86.158         1\n",
       "                              86.160         1\n",
       "                              102.420        1\n",
       "Name: Hourly Rate, Length: 3670, dtype: int64"
      ]
     },
     "execution_count": 21,
     "metadata": {},
     "output_type": "execute_result"
    }
   ],
   "source": [
    "seattle_wages.groupby(['Department'])['Hourly Rate'].value_counts()"
   ]
  },
  {
   "cell_type": "code",
   "execution_count": 22,
   "id": "74c002c3-9c6d-46a4-bd42-2615622350bf",
   "metadata": {
    "tags": []
   },
   "outputs": [],
   "source": [
    "avg_wages_by_job = seattle_wages.groupby(['Job Title'])['Hourly Rate'].median()"
   ]
  },
  {
   "cell_type": "code",
   "execution_count": 23,
   "id": "e93534b6-cd44-47c6-b2b3-16b146b91e8c",
   "metadata": {
    "tags": []
   },
   "outputs": [],
   "source": [
    "avg_wages_by_job = avg_wages_by_job.to_frame()"
   ]
  },
  {
   "cell_type": "code",
   "execution_count": 24,
   "id": "2c1d5110-4444-49ca-8500-6acaf8510789",
   "metadata": {
    "tags": []
   },
   "outputs": [
    {
     "data": {
      "text/html": [
       "<div>\n",
       "<style scoped>\n",
       "    .dataframe tbody tr th:only-of-type {\n",
       "        vertical-align: middle;\n",
       "    }\n",
       "\n",
       "    .dataframe tbody tr th {\n",
       "        vertical-align: top;\n",
       "    }\n",
       "\n",
       "    .dataframe thead th {\n",
       "        text-align: right;\n",
       "    }\n",
       "</style>\n",
       "<table border=\"1\" class=\"dataframe\">\n",
       "  <thead>\n",
       "    <tr style=\"text-align: right;\">\n",
       "      <th></th>\n",
       "      <th>Hourly Rate</th>\n",
       "    </tr>\n",
       "    <tr>\n",
       "      <th>Job Title</th>\n",
       "      <th></th>\n",
       "    </tr>\n",
       "  </thead>\n",
       "  <tbody>\n",
       "    <tr>\n",
       "      <th>911 Emerg Comm Anly</th>\n",
       "      <td>55.24</td>\n",
       "    </tr>\n",
       "    <tr>\n",
       "      <th>911 Emerg Comm Dispatcher I</th>\n",
       "      <td>37.70</td>\n",
       "    </tr>\n",
       "    <tr>\n",
       "      <th>911 Emerg Comm Dispatcher II</th>\n",
       "      <td>45.04</td>\n",
       "    </tr>\n",
       "    <tr>\n",
       "      <th>911 Emerg Comm Dispatcher III</th>\n",
       "      <td>50.39</td>\n",
       "    </tr>\n",
       "    <tr>\n",
       "      <th>911 Emerg Comm Dispatcher Supv</th>\n",
       "      <td>61.02</td>\n",
       "    </tr>\n",
       "    <tr>\n",
       "      <th>...</th>\n",
       "      <td>...</td>\n",
       "    </tr>\n",
       "    <tr>\n",
       "      <th>Wtrshed Inspector *</th>\n",
       "      <td>37.95</td>\n",
       "    </tr>\n",
       "    <tr>\n",
       "      <th>Wtrshed Inspector,Sr</th>\n",
       "      <td>47.98</td>\n",
       "    </tr>\n",
       "    <tr>\n",
       "      <th>Wtrshed Resources Tech</th>\n",
       "      <td>49.02</td>\n",
       "    </tr>\n",
       "    <tr>\n",
       "      <th>Wtrshed Resources Tech *</th>\n",
       "      <td>42.04</td>\n",
       "    </tr>\n",
       "    <tr>\n",
       "      <th>Yth Supv I *</th>\n",
       "      <td>23.09</td>\n",
       "    </tr>\n",
       "  </tbody>\n",
       "</table>\n",
       "<p>1159 rows × 1 columns</p>\n",
       "</div>"
      ],
      "text/plain": [
       "                                Hourly Rate\n",
       "Job Title                                  \n",
       "911 Emerg Comm Anly                   55.24\n",
       "911 Emerg Comm Dispatcher I           37.70\n",
       "911 Emerg Comm Dispatcher II          45.04\n",
       "911 Emerg Comm Dispatcher III         50.39\n",
       "911 Emerg Comm Dispatcher Supv        61.02\n",
       "...                                     ...\n",
       "Wtrshed Inspector *                   37.95\n",
       "Wtrshed Inspector,Sr                  47.98\n",
       "Wtrshed Resources Tech                49.02\n",
       "Wtrshed Resources Tech *              42.04\n",
       "Yth Supv I *                          23.09\n",
       "\n",
       "[1159 rows x 1 columns]"
      ]
     },
     "execution_count": 24,
     "metadata": {},
     "output_type": "execute_result"
    }
   ],
   "source": [
    "avg_wages_by_job"
   ]
  },
  {
   "cell_type": "code",
   "execution_count": 25,
   "id": "d76ad9d7-1e10-4d89-acc6-7630756a3007",
   "metadata": {
    "tags": []
   },
   "outputs": [],
   "source": [
    "avg_wages_by_job.to_csv(\"/Users/marcolaureano2/Documents/GitHub/seattle_wage_data/Data/avg_wages_by_job.csv\")"
   ]
  },
  {
   "cell_type": "code",
   "execution_count": null,
   "id": "e795080b-f1cf-43ca-8533-227106cd9c73",
   "metadata": {},
   "outputs": [],
   "source": []
  }
 ],
 "metadata": {
  "kernelspec": {
   "display_name": "Python (dojo-env)",
   "language": "python",
   "name": "dojo-env"
  },
  "language_info": {
   "codemirror_mode": {
    "name": "ipython",
    "version": 3
   },
   "file_extension": ".py",
   "mimetype": "text/x-python",
   "name": "python",
   "nbconvert_exporter": "python",
   "pygments_lexer": "ipython3",
   "version": "3.10.10"
  },
  "widgets": {
   "application/vnd.jupyter.widget-state+json": {
    "state": {},
    "version_major": 2,
    "version_minor": 0
   }
  }
 },
 "nbformat": 4,
 "nbformat_minor": 5
}
