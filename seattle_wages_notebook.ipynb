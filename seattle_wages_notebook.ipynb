{
 "cells": [
  {
   "cell_type": "code",
   "execution_count": 1,
   "id": "a9e67dfa-b041-4d95-8286-cfc4f46f348a",
   "metadata": {
    "tags": []
   },
   "outputs": [],
   "source": [
    "import pandas as pd"
   ]
  },
  {
   "cell_type": "code",
   "execution_count": 2,
   "id": "bfaeb9c2-487d-4dd9-b067-1ad912601210",
   "metadata": {
    "tags": []
   },
   "outputs": [],
   "source": [
    "seattle_wages = pd.read_csv('/Users/marcolaureano2/Documents/GitHub/seattle_wage_data/Data/City_of_Seattle_Wage_Data_20240523.csv')"
   ]
  },
  {
   "cell_type": "code",
   "execution_count": 3,
   "id": "2752a288-0960-48fb-89a4-e14b5f66cb20",
   "metadata": {
    "tags": []
   },
   "outputs": [
    {
     "data": {
      "text/plain": [
       "<bound method DataFrame.info of                Department   Last Name First Name                    Job Title  \\\n",
       "0       Office of Housing       Gould        Ian          Property Rehab Spec   \n",
       "1       Office of Housing      Kremer    Madison              Com Dev Spec,Sr   \n",
       "2       Office of Housing       Wolff     Sandra              Dev Fin Spec,Sr   \n",
       "3       Office of Housing      Barker      Lacey              Com Dev Spec,Sr   \n",
       "4       Office of Housing       Laird   Danthanh                Fin Anlyst,Sr   \n",
       "...                   ...         ...        ...                          ...   \n",
       "12722  Seattle City Light  Fitzgerald    Matthew          Prot&Cntrl Elctn CC   \n",
       "12723  Seattle City Light     Webster       John  MatSup,Elec-Asg OPVTCHBNSTR   \n",
       "12724  Seattle City Light       Tapia       Rene       Info Technol Prof A BU   \n",
       "12725  Seattle City Light         Hui    Wingfai       Info Technol Prof B-BU   \n",
       "12726  Seattle City Light  Ellermeier       Todd   Elecl Constr&Maint Supv-BU   \n",
       "\n",
       "       Hourly Rate   \n",
       "0            47.080  \n",
       "1            56.390  \n",
       "2            50.200  \n",
       "3            58.650  \n",
       "4            58.370  \n",
       "...             ...  \n",
       "12722        79.740  \n",
       "12723        43.770  \n",
       "12724        63.000  \n",
       "12725        68.192  \n",
       "12726        82.240  \n",
       "\n",
       "[12727 rows x 5 columns]>"
      ]
     },
     "execution_count": 3,
     "metadata": {},
     "output_type": "execute_result"
    }
   ],
   "source": [
    "seattle_wages.info"
   ]
  },
  {
   "cell_type": "code",
   "execution_count": 4,
   "id": "e5c98251-b245-4282-984f-0d02302878b2",
   "metadata": {
    "tags": []
   },
   "outputs": [
    {
     "name": "stdout",
     "output_type": "stream",
     "text": [
      "<class 'pandas.core.frame.DataFrame'>\n",
      "RangeIndex: 12727 entries, 0 to 12726\n",
      "Data columns (total 5 columns):\n",
      " #   Column        Non-Null Count  Dtype  \n",
      "---  ------        --------------  -----  \n",
      " 0   Department    12727 non-null  object \n",
      " 1   Last Name     12727 non-null  object \n",
      " 2   First Name    12727 non-null  object \n",
      " 3   Job Title     12727 non-null  object \n",
      " 4   Hourly Rate   12727 non-null  float64\n",
      "dtypes: float64(1), object(4)\n",
      "memory usage: 497.3+ KB\n"
     ]
    }
   ],
   "source": [
    "seattle_wages.info()"
   ]
  },
  {
   "cell_type": "code",
   "execution_count": 5,
   "id": "63fc17f1-2339-4913-b1b4-2815f33b2bfb",
   "metadata": {
    "tags": []
   },
   "outputs": [
    {
     "data": {
      "text/html": [
       "<div>\n",
       "<style scoped>\n",
       "    .dataframe tbody tr th:only-of-type {\n",
       "        vertical-align: middle;\n",
       "    }\n",
       "\n",
       "    .dataframe tbody tr th {\n",
       "        vertical-align: top;\n",
       "    }\n",
       "\n",
       "    .dataframe thead th {\n",
       "        text-align: right;\n",
       "    }\n",
       "</style>\n",
       "<table border=\"1\" class=\"dataframe\">\n",
       "  <thead>\n",
       "    <tr style=\"text-align: right;\">\n",
       "      <th></th>\n",
       "      <th>Department</th>\n",
       "      <th>Last Name</th>\n",
       "      <th>First Name</th>\n",
       "      <th>Job Title</th>\n",
       "      <th>Hourly Rate</th>\n",
       "    </tr>\n",
       "  </thead>\n",
       "  <tbody>\n",
       "    <tr>\n",
       "      <th>0</th>\n",
       "      <td>Office of Housing</td>\n",
       "      <td>Gould</td>\n",
       "      <td>Ian</td>\n",
       "      <td>Property Rehab Spec</td>\n",
       "      <td>47.080</td>\n",
       "    </tr>\n",
       "    <tr>\n",
       "      <th>1</th>\n",
       "      <td>Office of Housing</td>\n",
       "      <td>Kremer</td>\n",
       "      <td>Madison</td>\n",
       "      <td>Com Dev Spec,Sr</td>\n",
       "      <td>56.390</td>\n",
       "    </tr>\n",
       "    <tr>\n",
       "      <th>2</th>\n",
       "      <td>Office of Housing</td>\n",
       "      <td>Wolff</td>\n",
       "      <td>Sandra</td>\n",
       "      <td>Dev Fin Spec,Sr</td>\n",
       "      <td>50.200</td>\n",
       "    </tr>\n",
       "    <tr>\n",
       "      <th>3</th>\n",
       "      <td>Office of Housing</td>\n",
       "      <td>Barker</td>\n",
       "      <td>Lacey</td>\n",
       "      <td>Com Dev Spec,Sr</td>\n",
       "      <td>58.650</td>\n",
       "    </tr>\n",
       "    <tr>\n",
       "      <th>4</th>\n",
       "      <td>Office of Housing</td>\n",
       "      <td>Laird</td>\n",
       "      <td>Danthanh</td>\n",
       "      <td>Fin Anlyst,Sr</td>\n",
       "      <td>58.370</td>\n",
       "    </tr>\n",
       "    <tr>\n",
       "      <th>...</th>\n",
       "      <td>...</td>\n",
       "      <td>...</td>\n",
       "      <td>...</td>\n",
       "      <td>...</td>\n",
       "      <td>...</td>\n",
       "    </tr>\n",
       "    <tr>\n",
       "      <th>12722</th>\n",
       "      <td>Seattle City Light</td>\n",
       "      <td>Fitzgerald</td>\n",
       "      <td>Matthew</td>\n",
       "      <td>Prot&amp;Cntrl Elctn CC</td>\n",
       "      <td>79.740</td>\n",
       "    </tr>\n",
       "    <tr>\n",
       "      <th>12723</th>\n",
       "      <td>Seattle City Light</td>\n",
       "      <td>Webster</td>\n",
       "      <td>John</td>\n",
       "      <td>MatSup,Elec-Asg OPVTCHBNSTR</td>\n",
       "      <td>43.770</td>\n",
       "    </tr>\n",
       "    <tr>\n",
       "      <th>12724</th>\n",
       "      <td>Seattle City Light</td>\n",
       "      <td>Tapia</td>\n",
       "      <td>Rene</td>\n",
       "      <td>Info Technol Prof A BU</td>\n",
       "      <td>63.000</td>\n",
       "    </tr>\n",
       "    <tr>\n",
       "      <th>12725</th>\n",
       "      <td>Seattle City Light</td>\n",
       "      <td>Hui</td>\n",
       "      <td>Wingfai</td>\n",
       "      <td>Info Technol Prof B-BU</td>\n",
       "      <td>68.192</td>\n",
       "    </tr>\n",
       "    <tr>\n",
       "      <th>12726</th>\n",
       "      <td>Seattle City Light</td>\n",
       "      <td>Ellermeier</td>\n",
       "      <td>Todd</td>\n",
       "      <td>Elecl Constr&amp;Maint Supv-BU</td>\n",
       "      <td>82.240</td>\n",
       "    </tr>\n",
       "  </tbody>\n",
       "</table>\n",
       "<p>12727 rows × 5 columns</p>\n",
       "</div>"
      ],
      "text/plain": [
       "               Department   Last Name First Name                    Job Title  \\\n",
       "0       Office of Housing       Gould        Ian          Property Rehab Spec   \n",
       "1       Office of Housing      Kremer    Madison              Com Dev Spec,Sr   \n",
       "2       Office of Housing       Wolff     Sandra              Dev Fin Spec,Sr   \n",
       "3       Office of Housing      Barker      Lacey              Com Dev Spec,Sr   \n",
       "4       Office of Housing       Laird   Danthanh                Fin Anlyst,Sr   \n",
       "...                   ...         ...        ...                          ...   \n",
       "12722  Seattle City Light  Fitzgerald    Matthew          Prot&Cntrl Elctn CC   \n",
       "12723  Seattle City Light     Webster       John  MatSup,Elec-Asg OPVTCHBNSTR   \n",
       "12724  Seattle City Light       Tapia       Rene       Info Technol Prof A BU   \n",
       "12725  Seattle City Light         Hui    Wingfai       Info Technol Prof B-BU   \n",
       "12726  Seattle City Light  Ellermeier       Todd   Elecl Constr&Maint Supv-BU   \n",
       "\n",
       "       Hourly Rate   \n",
       "0            47.080  \n",
       "1            56.390  \n",
       "2            50.200  \n",
       "3            58.650  \n",
       "4            58.370  \n",
       "...             ...  \n",
       "12722        79.740  \n",
       "12723        43.770  \n",
       "12724        63.000  \n",
       "12725        68.192  \n",
       "12726        82.240  \n",
       "\n",
       "[12727 rows x 5 columns]"
      ]
     },
     "execution_count": 5,
     "metadata": {},
     "output_type": "execute_result"
    }
   ],
   "source": [
    "seattle_wages"
   ]
  },
  {
   "cell_type": "code",
   "execution_count": 6,
   "id": "bcc8998e-8ccb-4a89-8569-46701ec6eb11",
   "metadata": {
    "tags": []
   },
   "outputs": [
    {
     "data": {
      "text/plain": [
       "array(['Office of Housing', 'Commnty Sfty and Comm Ctr Dept',\n",
       "       'Neighborhoods', 'Seattle Public Utilities',\n",
       "       'Seattle Dept of Transportation', 'Fire Department',\n",
       "       'Intergovernment Relations', 'Information Technology',\n",
       "       'Office of Economic Development', 'Education & Early Learning',\n",
       "       'Parks & Recreation', 'Legislative Department',\n",
       "       'Office of Labor Standards', \"Mayor's Office\",\n",
       "       'Off of Emergency Mngmnt Dept', 'Planning & Comm Development',\n",
       "       'Seattle Public Library', 'Finance & Admin Services',\n",
       "       'Seattle Center', 'Police Department', 'Human Services Department',\n",
       "       'Arts & Culture', 'City Budget Office', 'City of Seattle',\n",
       "       'Seattle Dept of Human Resource', 'Construction & Inspections',\n",
       "       'Seattle City Light', 'Hearing Examiner',\n",
       "       'Police Relief & Pension Fund', 'Ethics & Elections Commission',\n",
       "       'Sustainability & Environment', 'City Auditor',\n",
       "       \"Employees' Retirement System\", 'Community Police Commission',\n",
       "       'Office for Civil Rights', 'Econ & Revenue Forecasts Dept',\n",
       "       'Office of Inspector General', 'Immigrant & Refugee Affairs',\n",
       "       'Civil Service Commissions', 'Office of Employee OMBUD'],\n",
       "      dtype=object)"
      ]
     },
     "execution_count": 6,
     "metadata": {},
     "output_type": "execute_result"
    }
   ],
   "source": [
    "seattle_wages['Department'].unique()"
   ]
  },
  {
   "cell_type": "code",
   "execution_count": 8,
   "id": "538a02df-d788-4f1d-aef9-d97e74c19446",
   "metadata": {
    "tags": []
   },
   "outputs": [
    {
     "data": {
      "text/plain": [
       "Parks & Recreation                1710\n",
       "Seattle City Light                1692\n",
       "Police Department                 1465\n",
       "Seattle Public Utilities          1417\n",
       "Fire Department                   1090\n",
       "Seattle Dept of Transportation    1038\n",
       "Seattle Public Library             636\n",
       "Information Technology             631\n",
       "Finance & Admin Services           582\n",
       "Seattle Center                     546\n",
       "Construction & Inspections         440\n",
       "Human Services Department          419\n",
       "Commnty Sfty and Comm Ctr Dept     139\n",
       "Education & Early Learning         117\n",
       "Seattle Dept of Human Resource     105\n",
       "Legislative Department              97\n",
       "Office of Housing                   60\n",
       "Neighborhoods                       60\n",
       "Office of Economic Development      51\n",
       "Planning & Comm Development         49\n",
       "Sustainability & Environment        47\n",
       "City Budget Office                  45\n",
       "Arts & Culture                      43\n",
       "Mayor's Office                      37\n",
       "Office for Civil Rights             32\n",
       "Employees' Retirement System        31\n",
       "Office of Labor Standards           30\n",
       "Office of Inspector General         22\n",
       "Off of Emergency Mngmnt Dept        17\n",
       "Civil Service Commissions           13\n",
       "Immigrant & Refugee Affairs         11\n",
       "Ethics & Elections Commission       10\n",
       "Intergovernment Relations            8\n",
       "City Auditor                         8\n",
       "Community Police Commission          8\n",
       "Office of Employee OMBUD             7\n",
       "Hearing Examiner                     5\n",
       "Police Relief & Pension Fund         5\n",
       "Econ & Revenue Forecasts Dept        2\n",
       "City of Seattle                      2\n",
       "Name: Department, dtype: int64"
      ]
     },
     "execution_count": 8,
     "metadata": {},
     "output_type": "execute_result"
    }
   ],
   "source": [
    "seattle_wages['Department'].value_counts()"
   ]
  }
 ],
 "metadata": {
  "kernelspec": {
   "display_name": "Python 3 (ipykernel)",
   "language": "python",
   "name": "python3"
  },
  "language_info": {
   "codemirror_mode": {
    "name": "ipython",
    "version": 3
   },
   "file_extension": ".py",
   "mimetype": "text/x-python",
   "name": "python",
   "nbconvert_exporter": "python",
   "pygments_lexer": "ipython3",
   "version": "3.11.4"
  },
  "widgets": {
   "application/vnd.jupyter.widget-state+json": {
    "state": {},
    "version_major": 2,
    "version_minor": 0
   }
  }
 },
 "nbformat": 4,
 "nbformat_minor": 5
}
