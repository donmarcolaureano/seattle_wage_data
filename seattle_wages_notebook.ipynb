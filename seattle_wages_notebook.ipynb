{
 "cells": [
  {
   "cell_type": "code",
   "execution_count": 2,
   "id": "a9e67dfa-b041-4d95-8286-cfc4f46f348a",
   "metadata": {
    "tags": []
   },
   "outputs": [],
   "source": [
    "import pandas as pd"
   ]
  },
  {
   "cell_type": "code",
   "execution_count": 5,
   "id": "bfaeb9c2-487d-4dd9-b067-1ad912601210",
   "metadata": {
    "tags": []
   },
   "outputs": [],
   "source": [
    "seattle_wages = pd.read_csv('/Users/marcolaureano2/Documents/GitHub/seattle_wage_data/Data/City_of_Seattle_Wage_Data_20240523.csv')"
   ]
  },
  {
   "cell_type": "code",
   "execution_count": 7,
   "id": "2752a288-0960-48fb-89a4-e14b5f66cb20",
   "metadata": {
    "tags": []
   },
   "outputs": [
    {
     "data": {
      "text/plain": [
       "<bound method DataFrame.info of                Department   Last Name First Name                    Job Title  \\\n",
       "0       Office of Housing       Gould        Ian          Property Rehab Spec   \n",
       "1       Office of Housing      Kremer    Madison              Com Dev Spec,Sr   \n",
       "2       Office of Housing       Wolff     Sandra              Dev Fin Spec,Sr   \n",
       "3       Office of Housing      Barker      Lacey              Com Dev Spec,Sr   \n",
       "4       Office of Housing       Laird   Danthanh                Fin Anlyst,Sr   \n",
       "...                   ...         ...        ...                          ...   \n",
       "12722  Seattle City Light  Fitzgerald    Matthew          Prot&Cntrl Elctn CC   \n",
       "12723  Seattle City Light     Webster       John  MatSup,Elec-Asg OPVTCHBNSTR   \n",
       "12724  Seattle City Light       Tapia       Rene       Info Technol Prof A BU   \n",
       "12725  Seattle City Light         Hui    Wingfai       Info Technol Prof B-BU   \n",
       "12726  Seattle City Light  Ellermeier       Todd   Elecl Constr&Maint Supv-BU   \n",
       "\n",
       "       Hourly Rate   \n",
       "0            47.080  \n",
       "1            56.390  \n",
       "2            50.200  \n",
       "3            58.650  \n",
       "4            58.370  \n",
       "...             ...  \n",
       "12722        79.740  \n",
       "12723        43.770  \n",
       "12724        63.000  \n",
       "12725        68.192  \n",
       "12726        82.240  \n",
       "\n",
       "[12727 rows x 5 columns]>"
      ]
     },
     "execution_count": 7,
     "metadata": {},
     "output_type": "execute_result"
    }
   ],
   "source": [
    "seattle_wages.info"
   ]
  },
  {
   "cell_type": "code",
   "execution_count": 8,
   "id": "e5c98251-b245-4282-984f-0d02302878b2",
   "metadata": {
    "tags": []
   },
   "outputs": [
    {
     "name": "stdout",
     "output_type": "stream",
     "text": [
      "<class 'pandas.core.frame.DataFrame'>\n",
      "RangeIndex: 12727 entries, 0 to 12726\n",
      "Data columns (total 5 columns):\n",
      " #   Column        Non-Null Count  Dtype  \n",
      "---  ------        --------------  -----  \n",
      " 0   Department    12727 non-null  object \n",
      " 1   Last Name     12727 non-null  object \n",
      " 2   First Name    12727 non-null  object \n",
      " 3   Job Title     12727 non-null  object \n",
      " 4   Hourly Rate   12727 non-null  float64\n",
      "dtypes: float64(1), object(4)\n",
      "memory usage: 497.3+ KB\n"
     ]
    }
   ],
   "source": [
    "seattle_wages.info()"
   ]
  },
  {
   "cell_type": "code",
   "execution_count": 9,
   "id": "63fc17f1-2339-4913-b1b4-2815f33b2bfb",
   "metadata": {
    "tags": []
   },
   "outputs": [
    {
     "data": {
      "text/html": [
       "<div>\n",
       "<style scoped>\n",
       "    .dataframe tbody tr th:only-of-type {\n",
       "        vertical-align: middle;\n",
       "    }\n",
       "\n",
       "    .dataframe tbody tr th {\n",
       "        vertical-align: top;\n",
       "    }\n",
       "\n",
       "    .dataframe thead th {\n",
       "        text-align: right;\n",
       "    }\n",
       "</style>\n",
       "<table border=\"1\" class=\"dataframe\">\n",
       "  <thead>\n",
       "    <tr style=\"text-align: right;\">\n",
       "      <th></th>\n",
       "      <th>Department</th>\n",
       "      <th>Last Name</th>\n",
       "      <th>First Name</th>\n",
       "      <th>Job Title</th>\n",
       "      <th>Hourly Rate</th>\n",
       "    </tr>\n",
       "  </thead>\n",
       "  <tbody>\n",
       "    <tr>\n",
       "      <th>0</th>\n",
       "      <td>Office of Housing</td>\n",
       "      <td>Gould</td>\n",
       "      <td>Ian</td>\n",
       "      <td>Property Rehab Spec</td>\n",
       "      <td>47.080</td>\n",
       "    </tr>\n",
       "    <tr>\n",
       "      <th>1</th>\n",
       "      <td>Office of Housing</td>\n",
       "      <td>Kremer</td>\n",
       "      <td>Madison</td>\n",
       "      <td>Com Dev Spec,Sr</td>\n",
       "      <td>56.390</td>\n",
       "    </tr>\n",
       "    <tr>\n",
       "      <th>2</th>\n",
       "      <td>Office of Housing</td>\n",
       "      <td>Wolff</td>\n",
       "      <td>Sandra</td>\n",
       "      <td>Dev Fin Spec,Sr</td>\n",
       "      <td>50.200</td>\n",
       "    </tr>\n",
       "    <tr>\n",
       "      <th>3</th>\n",
       "      <td>Office of Housing</td>\n",
       "      <td>Barker</td>\n",
       "      <td>Lacey</td>\n",
       "      <td>Com Dev Spec,Sr</td>\n",
       "      <td>58.650</td>\n",
       "    </tr>\n",
       "    <tr>\n",
       "      <th>4</th>\n",
       "      <td>Office of Housing</td>\n",
       "      <td>Laird</td>\n",
       "      <td>Danthanh</td>\n",
       "      <td>Fin Anlyst,Sr</td>\n",
       "      <td>58.370</td>\n",
       "    </tr>\n",
       "    <tr>\n",
       "      <th>...</th>\n",
       "      <td>...</td>\n",
       "      <td>...</td>\n",
       "      <td>...</td>\n",
       "      <td>...</td>\n",
       "      <td>...</td>\n",
       "    </tr>\n",
       "    <tr>\n",
       "      <th>12722</th>\n",
       "      <td>Seattle City Light</td>\n",
       "      <td>Fitzgerald</td>\n",
       "      <td>Matthew</td>\n",
       "      <td>Prot&amp;Cntrl Elctn CC</td>\n",
       "      <td>79.740</td>\n",
       "    </tr>\n",
       "    <tr>\n",
       "      <th>12723</th>\n",
       "      <td>Seattle City Light</td>\n",
       "      <td>Webster</td>\n",
       "      <td>John</td>\n",
       "      <td>MatSup,Elec-Asg OPVTCHBNSTR</td>\n",
       "      <td>43.770</td>\n",
       "    </tr>\n",
       "    <tr>\n",
       "      <th>12724</th>\n",
       "      <td>Seattle City Light</td>\n",
       "      <td>Tapia</td>\n",
       "      <td>Rene</td>\n",
       "      <td>Info Technol Prof A BU</td>\n",
       "      <td>63.000</td>\n",
       "    </tr>\n",
       "    <tr>\n",
       "      <th>12725</th>\n",
       "      <td>Seattle City Light</td>\n",
       "      <td>Hui</td>\n",
       "      <td>Wingfai</td>\n",
       "      <td>Info Technol Prof B-BU</td>\n",
       "      <td>68.192</td>\n",
       "    </tr>\n",
       "    <tr>\n",
       "      <th>12726</th>\n",
       "      <td>Seattle City Light</td>\n",
       "      <td>Ellermeier</td>\n",
       "      <td>Todd</td>\n",
       "      <td>Elecl Constr&amp;Maint Supv-BU</td>\n",
       "      <td>82.240</td>\n",
       "    </tr>\n",
       "  </tbody>\n",
       "</table>\n",
       "<p>12727 rows × 5 columns</p>\n",
       "</div>"
      ],
      "text/plain": [
       "               Department   Last Name First Name                    Job Title  \\\n",
       "0       Office of Housing       Gould        Ian          Property Rehab Spec   \n",
       "1       Office of Housing      Kremer    Madison              Com Dev Spec,Sr   \n",
       "2       Office of Housing       Wolff     Sandra              Dev Fin Spec,Sr   \n",
       "3       Office of Housing      Barker      Lacey              Com Dev Spec,Sr   \n",
       "4       Office of Housing       Laird   Danthanh                Fin Anlyst,Sr   \n",
       "...                   ...         ...        ...                          ...   \n",
       "12722  Seattle City Light  Fitzgerald    Matthew          Prot&Cntrl Elctn CC   \n",
       "12723  Seattle City Light     Webster       John  MatSup,Elec-Asg OPVTCHBNSTR   \n",
       "12724  Seattle City Light       Tapia       Rene       Info Technol Prof A BU   \n",
       "12725  Seattle City Light         Hui    Wingfai       Info Technol Prof B-BU   \n",
       "12726  Seattle City Light  Ellermeier       Todd   Elecl Constr&Maint Supv-BU   \n",
       "\n",
       "       Hourly Rate   \n",
       "0            47.080  \n",
       "1            56.390  \n",
       "2            50.200  \n",
       "3            58.650  \n",
       "4            58.370  \n",
       "...             ...  \n",
       "12722        79.740  \n",
       "12723        43.770  \n",
       "12724        63.000  \n",
       "12725        68.192  \n",
       "12726        82.240  \n",
       "\n",
       "[12727 rows x 5 columns]"
      ]
     },
     "execution_count": 9,
     "metadata": {},
     "output_type": "execute_result"
    }
   ],
   "source": [
    "seattle_wages"
   ]
  }
 ],
 "metadata": {
  "kernelspec": {
   "display_name": "Python 3 (ipykernel)",
   "language": "python",
   "name": "python3"
  },
  "language_info": {
   "codemirror_mode": {
    "name": "ipython",
    "version": 3
   },
   "file_extension": ".py",
   "mimetype": "text/x-python",
   "name": "python",
   "nbconvert_exporter": "python",
   "pygments_lexer": "ipython3",
   "version": "3.11.4"
  },
  "widgets": {
   "application/vnd.jupyter.widget-state+json": {
    "state": {},
    "version_major": 2,
    "version_minor": 0
   }
  }
 },
 "nbformat": 4,
 "nbformat_minor": 5
}
